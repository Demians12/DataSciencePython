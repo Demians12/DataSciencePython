{
 "cells": [
  {
   "cell_type": "markdown",
   "metadata": {},
   "source": [
    "# CREATING, LOADING AND SELECTING DATA WITH PANDAS"
   ]
  },
  {
   "cell_type": "markdown",
   "metadata": {},
   "source": [
    "## CREATING A DATAFRAME"
   ]
  },
  {
   "cell_type": "markdown",
   "metadata": {},
   "source": [
    "## IMPORTS"
   ]
  },
  {
   "cell_type": "code",
   "execution_count": 1,
   "metadata": {},
   "outputs": [],
   "source": [
    "import pandas as pd"
   ]
  },
  {
   "cell_type": "code",
   "execution_count": null,
   "metadata": {},
   "outputs": [],
   "source": [
    "# Creating a dataframe"
   ]
  },
  {
   "cell_type": "code",
   "execution_count": 6,
   "metadata": {},
   "outputs": [
    {
     "name": "stdout",
     "output_type": "stream",
     "text": [
      "               name           address\n",
      "0        Max Santos       Recife - PE\n",
      "1  Steffani Marques  João Pessoa - PB\n",
      "2     Barth Simpson      Mossoró - RN\n"
     ]
    }
   ],
   "source": [
    "#creating a dataframe using a dictionary\n",
    "\n",
    "df1 = pd.DataFrame({'name': ['Max Santos', 'Steffani Marques', 'Barth Simpson'], \n",
    "                   'address' : ['Recife - PE', 'João Pessoa - PB', 'Mossoró - RN']})\n",
    "\n",
    "print(df1)"
   ]
  },
  {
   "cell_type": "code",
   "execution_count": 9,
   "metadata": {},
   "outputs": [
    {
     "name": "stdout",
     "output_type": "stream",
     "text": [
      "         name         Address  age\n",
      "0  John Smith    123 Main St.   34\n",
      "1    Jane Doe  456 Maple Ave.   28\n",
      "2   Joe Shimo   645 Piple Ave   56\n"
     ]
    }
   ],
   "source": [
    "# Creating a dataframe II\n",
    "# We can also add data using a list of lists\n",
    "\n",
    "df2 = pd.DataFrame([['John Smith', '123 Main St.', 34],\n",
    "                    ['Jane Doe', '456 Maple Ave.', 28],\n",
    "                    ['Joe Shimo', '645 Piple Ave', 56]],\n",
    "                    columns=['name','Address', 'age'])\n",
    "print(df2)\n"
   ]
  },
  {
   "cell_type": "markdown",
   "metadata": {},
   "source": [
    "what is better to create Dataframes lists or dictionary?\n",
    "dictionary save a lot of time, but the columns will not preserve the order entered. Lists take longer than dictionary, but preserve the right order."
   ]
  },
  {
   "cell_type": "code",
   "execution_count": null,
   "metadata": {},
   "outputs": [],
   "source": []
  }
 ],
 "metadata": {
  "kernelspec": {
   "display_name": "Python 3",
   "language": "python",
   "name": "python3"
  },
  "language_info": {
   "codemirror_mode": {
    "name": "ipython",
    "version": 3
   },
   "file_extension": ".py",
   "mimetype": "text/x-python",
   "name": "python",
   "nbconvert_exporter": "python",
   "pygments_lexer": "ipython3",
   "version": "3.8.3"
  }
 },
 "nbformat": 4,
 "nbformat_minor": 4
}
